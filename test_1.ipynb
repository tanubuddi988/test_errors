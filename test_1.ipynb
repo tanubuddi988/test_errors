{
 "cells": [
  {
   "cell_type": "code",
   "execution_count": 2,
   "id": "55ed03b6",
   "metadata": {},
   "outputs": [
    {
     "name": "stdout",
     "output_type": "stream",
     "text": [
      "Hello folks\n"
     ]
    }
   ],
   "source": [
    "print('Hello folks')"
   ]
  },
  {
   "cell_type": "code",
   "execution_count": 1,
   "id": "d1800030",
   "metadata": {},
   "outputs": [
    {
     "name": "stdout",
     "output_type": "stream",
     "text": [
      "12 is the result\n"
     ]
    }
   ],
   "source": [
    "a = 2\n",
    "b = 10\n",
    "c = int(a+b)\n",
    "print(f'{c} is the result')"
   ]
  },
  {
   "cell_type": "code",
   "execution_count": null,
   "id": "4508a10b",
   "metadata": {},
   "outputs": [],
   "source": [
    "list1 = [10, 34, 52, 8]\n",
    "list2 = [23, 1, 83, 98]\n",
    "add_list = list1+list2"
   ]
  }
 ],
 "metadata": {
  "kernelspec": {
   "display_name": "Python 3 (ipykernel)",
   "language": "python",
   "name": "python3"
  },
  "language_info": {
   "codemirror_mode": {
    "name": "ipython",
    "version": 3
   },
   "file_extension": ".py",
   "mimetype": "text/x-python",
   "name": "python",
   "nbconvert_exporter": "python",
   "pygments_lexer": "ipython3",
   "version": "3.9.7"
  }
 },
 "nbformat": 4,
 "nbformat_minor": 5
}
