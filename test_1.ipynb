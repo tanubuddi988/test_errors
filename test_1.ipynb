print('Hello folks')
Hello folks
a = 2
b = 10
c = int(a+b)
print(f'{c} is the result')
12 is the result
list1 = [10, 34, 52, 8]
list2 = [23, 1, 83, 98]
add_list = list1+list2
