{
 "cells": [
  {
   "cell_type": "code",
   "execution_count": null,
   "id": "ecb39590",
   "metadata": {},
   "outputs": [],
   "source": [
    "import os"
   ]
  },
  {
   "cell_type": "code",
   "execution_count": null,
   "id": "94776034",
   "metadata": {},
   "outputs": [],
   "source": [
    "print('Hell0')"
   ]
  },
  {
   "cell_type": "code",
   "execution_count": null,
   "id": "630be47d",
   "metadata": {},
   "outputs": [],
   "source": [
    "x = [2,4,5]\n",
    "print(x[8])"
   ]
  }
 ],
 "metadata": {
  "kernelspec": {
   "display_name": "Python 3 (ipykernel)",
   "language": "python",
   "name": "python3"
  },
  "language_info": {
   "codemirror_mode": {
    "name": "ipython",
    "version": 3
   },
   "file_extension": ".py",
   "mimetype": "text/x-python",
   "name": "python",
   "nbconvert_exporter": "python",
   "pygments_lexer": "ipython3",
   "version": "3.9.7"
  }
 },
 "nbformat": 4,
 "nbformat_minor": 5
}
